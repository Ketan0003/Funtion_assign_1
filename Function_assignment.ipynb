{
 "cells": [
  {
   "cell_type": "markdown",
   "id": "31f97b88-8bdc-4e4f-a634-922606deafbf",
   "metadata": {},
   "source": [
    "## Assignment"
   ]
  },
  {
   "cell_type": "markdown",
   "id": "742820e3-12cf-43cc-b7fd-adc77de2aa6e",
   "metadata": {},
   "source": [
    "#### Question 1\n",
    "####  Which keyword is used to create a function? \n",
    "#### Ans:- The keyword used to create the function in python is \"def\""
   ]
  },
  {
   "cell_type": "code",
   "execution_count": 1,
   "id": "a58346be-fda7-4b9d-85db-87f648e81d97",
   "metadata": {},
   "outputs": [],
   "source": [
    "# Create a function to return a list of odd numbers in the range of 1 to 25.\n",
    "\n",
    "def oddnum():\n",
    "    oddnum_list = []\n",
    "    for i in range(25):\n",
    "        if i%2 !=0:\n",
    "            oddnum_list.append(i)\n",
    "    print(oddnum_list)\n",
    "        "
   ]
  },
  {
   "cell_type": "code",
   "execution_count": 2,
   "id": "257b7f3e-ccc6-46cf-b73e-e47e1cbcbb42",
   "metadata": {},
   "outputs": [
    {
     "name": "stdout",
     "output_type": "stream",
     "text": [
      "[1, 3, 5, 7, 9, 11, 13, 15, 17, 19, 21, 23]\n"
     ]
    }
   ],
   "source": [
    "oddnum()"
   ]
  },
  {
   "cell_type": "markdown",
   "id": "239b685d-ebc0-4675-8d99-979225438c7f",
   "metadata": {},
   "source": [
    "## Question 2"
   ]
  },
  {
   "cell_type": "raw",
   "id": "a1ef50c2-7500-4127-ace6-ba2a2e87a707",
   "metadata": {},
   "source": [
    "Why *args and **kwargs is used in some functions? Create a function each for *args and **kwargs to\n",
    "demonstrate their use."
   ]
  },
  {
   "cell_type": "raw",
   "id": "59bb38cd-6e4f-4a95-a09c-1321ae0df16f",
   "metadata": {},
   "source": [
    "Ans :- (1) *args is used in function where the number of arguments given to the function is not defined. it allows to take more arguments than the formal argument defined.\n",
    "(2) **kwargs is keyvalue pair args used to passed in the function , its same like a dictionary. and similar to *args it allows to take more foramal arguments and passed it to function."
   ]
  },
  {
   "cell_type": "code",
   "execution_count": 3,
   "id": "0b022ad9-4f61-4976-acc1-7ec079132cf0",
   "metadata": {},
   "outputs": [],
   "source": [
    "# Exampple of *args\n",
    "def test(*args):\n",
    "    for i in args:\n",
    "        print(i)\n",
    "                "
   ]
  },
  {
   "cell_type": "code",
   "execution_count": 4,
   "id": "92dafc17-9968-4556-8011-d4e63fdcb199",
   "metadata": {},
   "outputs": [
    {
     "name": "stdout",
     "output_type": "stream",
     "text": [
      "1\n",
      "2\n",
      "3\n",
      "3\n",
      "4\n",
      "ketan\n",
      "2\n"
     ]
    }
   ],
   "source": [
    "test(1,2,3,3,4,'ketan',2)"
   ]
  },
  {
   "cell_type": "code",
   "execution_count": 5,
   "id": "9ef4f56e-be80-4b01-bc5e-bbcfac0d863b",
   "metadata": {},
   "outputs": [],
   "source": [
    "# Example for **args\n",
    "\n",
    "def test2(**kwargs):\n",
    "    return kwargs"
   ]
  },
  {
   "cell_type": "code",
   "execution_count": 6,
   "id": "6f578ade-373a-4064-ba0f-018117f7ee3a",
   "metadata": {},
   "outputs": [
    {
     "data": {
      "text/plain": [
       "{'a': 'IT', 'b': 'AI Engineer', 'c': 'DSM'}"
      ]
     },
     "execution_count": 6,
     "metadata": {},
     "output_type": "execute_result"
    }
   ],
   "source": [
    "test2(a= 'IT', b= 'AI Engineer', c= 'DSM')"
   ]
  },
  {
   "cell_type": "code",
   "execution_count": 7,
   "id": "0a55e8c6-1714-4d67-bb70-0aa2aa8ed10c",
   "metadata": {},
   "outputs": [
    {
     "data": {
      "text/plain": [
       "dict"
      ]
     },
     "execution_count": 7,
     "metadata": {},
     "output_type": "execute_result"
    }
   ],
   "source": [
    "type(test2())"
   ]
  },
  {
   "cell_type": "markdown",
   "id": "60abb5e7-00f5-4eae-8437-e896fc1bc200",
   "metadata": {
    "tags": []
   },
   "source": [
    "## Question 3"
   ]
  },
  {
   "cell_type": "raw",
   "id": "28aabf24-361a-451e-9a37-0b7b2c066925",
   "metadata": {},
   "source": [
    "What is an iterator in python? Name the method used to initialise the iterator object and the method\n",
    "used for iteration. Use these methods to print the first five elements of the given list [2, 4, 6, 8, 10, 12, 14, 16,\n",
    "18, 20]."
   ]
  },
  {
   "cell_type": "raw",
   "id": "1da9a0e6-26d6-4ad3-bbaf-1b8dfdbc2a89",
   "metadata": {},
   "source": [
    "Ans  :- Iterator in python is used to iterate over the iterable objects like list, dict, tuple, str, etc, The iter() method is used to inilize the object and returns a iter object and the next() method is used to get the value od iterable."
   ]
  },
  {
   "cell_type": "code",
   "execution_count": 8,
   "id": "1dcc74e3-56d4-4702-a1e7-9acc29b375e1",
   "metadata": {},
   "outputs": [
    {
     "name": "stdout",
     "output_type": "stream",
     "text": [
      "2\n",
      "4\n",
      "6\n",
      "8\n",
      "10\n"
     ]
    }
   ],
   "source": [
    "# print the first five elements of the given list [2, 4, 6, 8, 10, 12, 14, 16,18, 20].\n",
    "l = [2, 4, 6, 8, 10, 12, 14, 16,18, 20]\n",
    "    \n",
    "for i in l[:5]:\n",
    "    print(i)\n"
   ]
  },
  {
   "cell_type": "markdown",
   "id": "3b0e1d09-2818-45de-bea6-db1371aabc04",
   "metadata": {},
   "source": [
    "## Question 4"
   ]
  },
  {
   "cell_type": "raw",
   "id": "4e812da3-b5e0-4f20-9b57-5ec8765452ac",
   "metadata": {},
   "source": [
    "What is a generator function in python? Why yield keyword is used? Give an example of a generator function."
   ]
  },
  {
   "cell_type": "raw",
   "id": "3567fadc-57e0-426c-9b62-eeb6c1c3f32a",
   "metadata": {},
   "source": [
    "Ans :- when a function contains yield keywork then the function becomes a generator funtion, it returns a generate a generator object . In order to get the values we use iteration method or next()."
   ]
  },
  {
   "cell_type": "code",
   "execution_count": 9,
   "id": "91b29bd4-933e-4508-8b4d-3364b88457b5",
   "metadata": {},
   "outputs": [],
   "source": [
    "# e. g fibb number\n",
    "\n",
    "\n",
    "\n",
    "def fibb(num):\n",
    "    a, b = 0,1\n",
    "    while a < num:\n",
    "        yield a\n",
    "        a, b = b, a + b\n",
    "                "
   ]
  },
  {
   "cell_type": "code",
   "execution_count": 10,
   "id": "cc6b1678-0b44-4785-bff6-5d7ddfa5c966",
   "metadata": {},
   "outputs": [],
   "source": [
    "# generated objected created\n",
    "\n",
    "k =fibb(10)"
   ]
  },
  {
   "cell_type": "code",
   "execution_count": 11,
   "id": "1eafa716-0d6c-4e93-8f15-889749cf5e5e",
   "metadata": {},
   "outputs": [
    {
     "name": "stdout",
     "output_type": "stream",
     "text": [
      "0\n",
      "1\n",
      "1\n",
      "2\n",
      "3\n",
      "5\n",
      "8\n"
     ]
    }
   ],
   "source": [
    "# iterating on genratoe object to get the values\n",
    "\n",
    "for i in k:\n",
    "    print(i)"
   ]
  },
  {
   "cell_type": "markdown",
   "id": "a3e3e892-5e03-40f8-a6ab-24cd9d7e12f5",
   "metadata": {},
   "source": [
    "## Question 5"
   ]
  },
  {
   "cell_type": "raw",
   "id": "8b42525d-b6bd-4ee8-b26c-15e221768763",
   "metadata": {},
   "source": [
    "Create a generator function for prime numbers less than 1000. Use the next() method to print the first 20 prime numbers."
   ]
  },
  {
   "cell_type": "code",
   "execution_count": 33,
   "id": "84ab3fe9-9306-4214-8c74-964aba1ddac1",
   "metadata": {},
   "outputs": [],
   "source": [
    "\n",
    "def prime_num():\n",
    "    for i in range(1000):\n",
    "        if i %2 !=0 :\n",
    "            yield i"
   ]
  },
  {
   "cell_type": "code",
   "execution_count": 34,
   "id": "234d04c5-1288-4bad-aaf7-a3cc9c4ea617",
   "metadata": {},
   "outputs": [],
   "source": [
    "p = prime_num()"
   ]
  },
  {
   "cell_type": "code",
   "execution_count": 29,
   "id": "f3a372ca-8d0d-4cbb-b565-e5b62aeda067",
   "metadata": {},
   "outputs": [
    {
     "name": "stdout",
     "output_type": "stream",
     "text": [
      "1\n",
      "3\n",
      "5\n",
      "7\n",
      "9\n",
      "11\n",
      "13\n",
      "15\n",
      "17\n",
      "19\n",
      "21\n",
      "23\n",
      "25\n",
      "27\n",
      "29\n",
      "31\n",
      "33\n",
      "35\n",
      "37\n",
      "39\n"
     ]
    }
   ],
   "source": [
    "print(next(p))\n",
    "print(next(p))\n",
    "print(next(p))\n",
    "print(next(p))\n",
    "print(next(p))\n",
    "print(next(p))\n",
    "print(next(p))\n",
    "print(next(p))\n",
    "print(next(p))\n",
    "print(next(p))\n",
    "print(next(p))\n",
    "print(next(p))\n",
    "print(next(p))\n",
    "print(next(p))\n",
    "print(next(p))\n",
    "print(next(p))\n",
    "print(next(p))\n",
    "print(next(p))\n",
    "print(next(p))\n",
    "print(next(p))"
   ]
  },
  {
   "cell_type": "markdown",
   "id": "51fd5587-dc28-462a-8b7a-2185151321fd",
   "metadata": {},
   "source": [
    "#### Alternate method"
   ]
  },
  {
   "cell_type": "code",
   "execution_count": 35,
   "id": "37aea623-9ccb-48f4-bef9-690764cfda5e",
   "metadata": {},
   "outputs": [
    {
     "name": "stdout",
     "output_type": "stream",
     "text": [
      "[1, 3, 5, 7, 9, 11, 13, 15, 17, 19, 21, 23, 25, 27, 29, 31, 33, 35, 37, 39, 41, 43, 45, 47, 49, 51, 53, 55, 57, 59, 61, 63, 65, 67, 69, 71, 73, 75, 77, 79, 81, 83, 85, 87, 89, 91, 93, 95, 97, 99, 101, 103, 105, 107, 109, 111, 113, 115, 117, 119, 121, 123, 125, 127, 129, 131, 133, 135, 137, 139, 141, 143, 145, 147, 149, 151, 153, 155, 157, 159, 161, 163, 165, 167, 169, 171, 173, 175, 177, 179, 181, 183, 185, 187, 189, 191, 193, 195, 197, 199, 201, 203, 205, 207, 209, 211, 213, 215, 217, 219, 221, 223, 225, 227, 229, 231, 233, 235, 237, 239, 241, 243, 245, 247, 249, 251, 253, 255, 257, 259, 261, 263, 265, 267, 269, 271, 273, 275, 277, 279, 281, 283, 285, 287, 289, 291, 293, 295, 297, 299, 301, 303, 305, 307, 309, 311, 313, 315, 317, 319, 321, 323, 325, 327, 329, 331, 333, 335, 337, 339, 341, 343, 345, 347, 349, 351, 353, 355, 357, 359, 361, 363, 365, 367, 369, 371, 373, 375, 377, 379, 381, 383, 385, 387, 389, 391, 393, 395, 397, 399, 401, 403, 405, 407, 409, 411, 413, 415, 417, 419, 421, 423, 425, 427, 429, 431, 433, 435, 437, 439, 441, 443, 445, 447, 449, 451, 453, 455, 457, 459, 461, 463, 465, 467, 469, 471, 473, 475, 477, 479, 481, 483, 485, 487, 489, 491, 493, 495, 497, 499, 501, 503, 505, 507, 509, 511, 513, 515, 517, 519, 521, 523, 525, 527, 529, 531, 533, 535, 537, 539, 541, 543, 545, 547, 549, 551, 553, 555, 557, 559, 561, 563, 565, 567, 569, 571, 573, 575, 577, 579, 581, 583, 585, 587, 589, 591, 593, 595, 597, 599, 601, 603, 605, 607, 609, 611, 613, 615, 617, 619, 621, 623, 625, 627, 629, 631, 633, 635, 637, 639, 641, 643, 645, 647, 649, 651, 653, 655, 657, 659, 661, 663, 665, 667, 669, 671, 673, 675, 677, 679, 681, 683, 685, 687, 689, 691, 693, 695, 697, 699, 701, 703, 705, 707, 709, 711, 713, 715, 717, 719, 721, 723, 725, 727, 729, 731, 733, 735, 737, 739, 741, 743, 745, 747, 749, 751, 753, 755, 757, 759, 761, 763, 765, 767, 769, 771, 773, 775, 777, 779, 781, 783, 785, 787, 789, 791, 793, 795, 797, 799, 801, 803, 805, 807, 809, 811, 813, 815, 817, 819, 821, 823, 825, 827, 829, 831, 833, 835, 837, 839, 841, 843, 845, 847, 849, 851, 853, 855, 857, 859, 861, 863, 865, 867, 869, 871, 873, 875, 877, 879, 881, 883, 885, 887, 889, 891, 893, 895, 897, 899, 901, 903, 905, 907, 909, 911, 913, 915, 917, 919, 921, 923, 925, 927, 929, 931, 933, 935, 937, 939, 941, 943, 945, 947, 949, 951, 953, 955, 957, 959, 961, 963, 965, 967, 969, 971, 973, 975, 977, 979, 981, 983, 985, 987, 989, 991, 993, 995, 997, 999]\n"
     ]
    }
   ],
   "source": [
    "m =[]\n",
    "for i in p:\n",
    "    m.append(i)\n",
    "print(m)    "
   ]
  },
  {
   "cell_type": "code",
   "execution_count": 36,
   "id": "063a40d0-8197-448b-ac52-084ef2095d4d",
   "metadata": {},
   "outputs": [
    {
     "name": "stdout",
     "output_type": "stream",
     "text": [
      "1,3,5,7,9,11,13,15,17,19,21,23,25,27,29,31,33,35,37,39,"
     ]
    }
   ],
   "source": [
    "# printing the first 20 prime numbers\n",
    "for i in m[: 20]:\n",
    "    print(i ,end= ',')"
   ]
  },
  {
   "cell_type": "code",
   "execution_count": null,
   "id": "1fc35f8f-0e08-4a1d-8c8a-f097d06ed231",
   "metadata": {},
   "outputs": [],
   "source": []
  },
  {
   "cell_type": "code",
   "execution_count": null,
   "id": "f00e5398-facb-4f09-890b-f0db77f34d8e",
   "metadata": {},
   "outputs": [],
   "source": []
  },
  {
   "cell_type": "code",
   "execution_count": null,
   "id": "0daa749c-cc5b-4804-a8b2-18d2132db236",
   "metadata": {},
   "outputs": [],
   "source": []
  }
 ],
 "metadata": {
  "kernelspec": {
   "display_name": "Python 3 (ipykernel)",
   "language": "python",
   "name": "python3"
  },
  "language_info": {
   "codemirror_mode": {
    "name": "ipython",
    "version": 3
   },
   "file_extension": ".py",
   "mimetype": "text/x-python",
   "name": "python",
   "nbconvert_exporter": "python",
   "pygments_lexer": "ipython3",
   "version": "3.10.8"
  }
 },
 "nbformat": 4,
 "nbformat_minor": 5
}
